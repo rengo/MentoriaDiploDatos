{
  "nbformat": 4,
  "nbformat_minor": 0,
  "metadata": {
    "colab": {
      "name": "Untitled2.ipynb",
      "provenance": [],
      "authorship_tag": "ABX9TyO3MkDGXyCN5Ce4/RbEk6Ak",
      "include_colab_link": true
    },
    "kernelspec": {
      "name": "python3",
      "display_name": "Python 3"
    }
  },
  "cells": [
    {
      "cell_type": "markdown",
      "metadata": {
        "id": "view-in-github",
        "colab_type": "text"
      },
      "source": [
        "<a href=\"https://colab.research.google.com/github/rengo/MentoriaDiploDatos/blob/master/TP1_AnalisisYVisualizacionC.ipynb\" target=\"_parent\"><img src=\"https://colab.research.google.com/assets/colab-badge.svg\" alt=\"Open In Colab\"/></a>"
      ]
    },
    {
      "cell_type": "code",
      "metadata": {
        "id": "i8TzeYHjwFW2",
        "colab_type": "code",
        "colab": {}
      },
      "source": [
        "print(\"test\")"
      ],
      "execution_count": null,
      "outputs": []
    }
  ]
}